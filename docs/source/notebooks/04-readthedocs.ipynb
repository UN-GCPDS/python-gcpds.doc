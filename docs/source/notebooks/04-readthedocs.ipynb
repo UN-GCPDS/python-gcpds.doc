{
 "cells": [
  {
   "cell_type": "markdown",
   "id": "2cfcf414-368a-40ae-9a88-92c25850e46a",
   "metadata": {},
   "source": [
    "# Creating a Project on Read the Docs\n",
    "\n",
    "Read the Docs automates the process of building and hosting your documentation. Here's how to get started with creating a new project:"
   ]
  },
  {
   "cell_type": "markdown",
   "id": "759db276-90ae-4a36-bab4-67a91243d022",
   "metadata": {},
   "source": [
    "1. **Start a New Project**:\n",
    "   - Go to [Read the Docs](https://readthedocs.org/) and log in with your account.\n",
    "   - Click on the `Import a Project` button or navigate to the `Dashboard` and then `Import Project`.\n",
    "\n",
    "2. **Fill in Project Details**:\n",
    "   - **Name**: Enter the name of your project, such as `GCPDS - Docs`.\n",
    "   - **Repository URL**: Provide the URL of your GitHub repository where the documentation resides, like `https://github.com/UN-GCPD`.\n",
    "   - **Default Branch**: Specify the branch that Read the Docs should use to build your documentation, typically `main` or `master`.\n",
    "   - **Language**: Select the language in which your project documentation is written, for example, `English`.\n",
    "\n",
    "3. **Finalize and Build**:\n",
    "   - Click the `Next` button to proceed.\n",
    "   - Read the Docs will import your documentation from the specified repository and branch.\n",
    "   - After importing, Read the Docs will automatically build your documentation.\n",
    "\n",
    "![border-image](_images/readthedocs_01.png)\n",
    "\n",
    "5. **Review and Access Documentation**:\n",
    "   - Once the build process is complete, you can review your documentation by clicking on the link provided by Read the Docs.\n",
    "   - The link to your documentation is usually in the format `https://<projectname>.readthedocs.io/`."
   ]
  },
  {
   "cell_type": "markdown",
   "id": "3338e5d0-34cd-4560-84db-c74f240fe542",
   "metadata": {},
   "source": [
    "Remember to commit any changes you make to your documentation to your repository, which will trigger a new build on Read the Docs and update your hosted documentation accordingly."
   ]
  }
 ],
 "metadata": {
  "kernelspec": {
   "display_name": "Python 3 (ipykernel)",
   "language": "python",
   "name": "python3"
  },
  "language_info": {
   "codemirror_mode": {
    "name": "ipython",
    "version": 3
   },
   "file_extension": ".py",
   "mimetype": "text/x-python",
   "name": "python",
   "nbconvert_exporter": "python",
   "pygments_lexer": "ipython3",
   "version": "3.11.7"
  }
 },
 "nbformat": 4,
 "nbformat_minor": 5
}
