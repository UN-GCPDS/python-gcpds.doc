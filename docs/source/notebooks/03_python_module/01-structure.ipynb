{
 "cells": [
  {
   "cell_type": "markdown",
   "id": "07383f1c-a38c-4045-8386-9132455908a7",
   "metadata": {},
   "source": [
    "# Module Directory Structure\n",
    "\n",
    "In this tutorial, we will cover the process of transitioning your code from Jupyter notebooks to a structured Python module. The focus will be on creating a module named \"gcpds\" with a chosen submodule.\n",
    "\n",
    "## Structuring Your Module\n",
    "\n",
    "Your module structure should follow this pattern:\n",
    "\n",
    "\n",
    "```plaintext\n",
    "gcpds/\n",
    "└── submodule/\n",
    "├── init.py\n",
    "├── optional_file_1.py\n",
    "└── optional_file_2.py\n",
    "```"
   ]
  },
  {
   "cell_type": "markdown",
   "id": "e41d2fa3-04e2-46ef-b3a1-564dd693ab43",
   "metadata": {},
   "source": [
    "## Using `__init__.py`\n",
    "\n",
    "The `__init__.py` file is suitable for simpler submodules.\n",
    "\n",
    "**Example: Simple Class in `__init__.py`**\n",
    "\n",
    "Suppose you have a basic class `SimpleClass` in your Jupyter notebook. Here's how to include it in `__init__.py`:\n",
    "\n",
    "```python\n",
    "# gcpds/submodule/__init__.py\n",
    "\n",
    "class SimpleClass:\n",
    "    def __init__(self):\n",
    "        self.message = \"Hello from SimpleClass\"\n",
    "\n",
    "    def greet(self):\n",
    "        return self.message\n",
    "```\n",
    "\n",
    "**Importing from `__init__.py`**\n",
    "\n",
    "To use `SimpleClass` in your script:\n",
    "\n",
    "```python\n",
    "from gcpds.submodule import SimpleClass\n",
    "\n",
    "simple_obj = SimpleClass()\n",
    "print(simple_obj.greet())  # Outputs: Hello from SimpleClass\n",
    "```"
   ]
  },
  {
   "cell_type": "markdown",
   "id": "c89dc204-4a8d-4c39-9c1a-48b3d145b3fc",
   "metadata": {},
   "source": [
    "## Using `optional_file_1.py`\n",
    "\n",
    "For more complex functionalities, additional files like `optional_file_1.py` are used.\n",
    "\n",
    "**Example: Class in `optional_file_1.py`**\n",
    "\n",
    "Imagine you have a more complex class, `ComplexClass`, in your Jupyter notebook. Here's how to include it in `optional_file_1.py`:\n",
    "\n",
    "```python\n",
    "# gcpds/submodule/optional_file_1.py\n",
    "\n",
    "class ComplexClass:\n",
    "    def __init__(self, param):\n",
    "        self.param = param\n",
    "\n",
    "    def complex_method(self):\n",
    "        # Complex implementation\n",
    "        return f\"Complex output with {self.param}\"\n",
    "```\n",
    "\n",
    "**Importing from `optional_file_1.py`**\n",
    "\n",
    "To use `ComplexClass` in your script:\n",
    "\n",
    "```python\n",
    "from gcpds.submodule.optional_file_1 import ComplexClass\n",
    "\n",
    "complex_obj = ComplexClass(\"parameter\")\n",
    "print(complex_obj.complex_method())  # Outputs: Complex output with parameter\n",
    "```"
   ]
  }
 ],
 "metadata": {
  "kernelspec": {
   "display_name": "Python 3 (ipykernel)",
   "language": "python",
   "name": "python3"
  },
  "language_info": {
   "codemirror_mode": {
    "name": "ipython",
    "version": 3
   },
   "file_extension": ".py",
   "mimetype": "text/x-python",
   "name": "python",
   "nbconvert_exporter": "python",
   "pygments_lexer": "ipython3",
   "version": "3.11.7"
  }
 },
 "nbformat": 4,
 "nbformat_minor": 5
}
