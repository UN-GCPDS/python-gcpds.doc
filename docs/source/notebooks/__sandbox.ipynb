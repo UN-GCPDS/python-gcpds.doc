{
 "cells": [
  {
   "cell_type": "code",
   "execution_count": 1,
   "id": "e3972c98-e463-40e2-8f2c-90bdc9e3996c",
   "metadata": {},
   "outputs": [
    {
     "name": "stdout",
     "output_type": "stream",
     "text": [
      "/home/yeison/Development/venv/sphinx/lib/python3.11/site-packages/gcpds/docs/__init__.py/workflows\n",
      "<generator object Path.glob at 0x7623737bd8b0>\n"
     ]
    },
    {
     "data": {
      "text/html": [
       "<style> .lab-logger { font-family: monospace; text-wrap: pretty; height: auto !important } </style>"
      ],
      "text/plain": [
       "<IPython.core.display.HTML object>"
      ]
     },
     "metadata": {},
     "output_type": "display_data"
    },
    {
     "data": {
      "text/html": [
       "<style> .text-wrap { text-wrap: pretty; line-height: 130%; height: auto !important; } </style>"
      ],
      "text/plain": [
       "<IPython.core.display.HTML object>"
      ]
     },
     "metadata": {},
     "output_type": "display_data"
    },
    {
     "data": {
      "text/html": [
       "<style> .title-size { font-size: 150%; margin-top: 20px; } </style>"
      ],
      "text/plain": [
       "<IPython.core.display.HTML object>"
      ]
     },
     "metadata": {},
     "output_type": "display_data"
    },
    {
     "data": {
      "application/vnd.jupyter.widget-view+json": {
       "model_id": "825e01ddc3b848d8af04425cc208ab75",
       "version_major": 2,
       "version_minor": 0
      },
      "text/plain": [
       "VBox(children=(Label(value='GitHub Integration for Jupyter: Simplified Management', _dom_classes=('title-size'…"
      ]
     },
     "execution_count": 1,
     "metadata": {},
     "output_type": "execute_result"
    }
   ],
   "source": [
    "from gcpds.docs import __lab__\n",
    "__lab__()"
   ]
  },
  {
   "cell_type": "code",
   "execution_count": null,
   "id": "78cf5b5a-db55-4790-b53d-1638d12e6c8b",
   "metadata": {},
   "outputs": [],
   "source": []
  }
 ],
 "metadata": {
  "kernelspec": {
   "display_name": "Python 3 (ipykernel)",
   "language": "python",
   "name": "python3"
  },
  "language_info": {
   "codemirror_mode": {
    "name": "ipython",
    "version": 3
   },
   "file_extension": ".py",
   "mimetype": "text/x-python",
   "name": "python",
   "nbconvert_exporter": "python",
   "pygments_lexer": "ipython3",
   "version": "3.11.7"
  }
 },
 "nbformat": 4,
 "nbformat_minor": 5
}
