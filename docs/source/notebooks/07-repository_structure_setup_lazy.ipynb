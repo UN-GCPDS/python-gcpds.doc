{
 "cells": [
  {
   "cell_type": "markdown",
   "id": "4aca56d3-0cc2-4b9e-ac77-747eef20919c",
   "metadata": {},
   "source": [
    "# Repository Structure Setup (The Lazy Mode)"
   ]
  },
  {
   "cell_type": "markdown",
   "id": "4864e83f-0e14-40d0-9bdf-1b4329da5290",
   "metadata": {},
   "source": [
    "## Installation Instructions\n",
    "\n",
    "To integrate the `gcpds.docs` module into your Python environment, the process is straightforward and managed via `pip`, Python's package installer. Ensure that you have `pip` installed and that it is up to date to avoid any compatibility issues. Follow the command below to install the latest version of `gcpds.docs`:"
   ]
  },
  {
   "cell_type": "code",
   "execution_count": null,
   "id": "35f24e84-ba2e-452d-82ab-066f1ef8b745",
   "metadata": {},
   "outputs": [],
   "source": [
    "pip install -U gcpds.docs"
   ]
  },
  {
   "cell_type": "markdown",
   "id": "1550b257-52df-46bc-a569-b953cb58178b",
   "metadata": {},
   "source": [
    "This command will download and install the `gcpds.docs` module along with its dependencies. The `-U` flag ensures that if the package is already installed, it will be upgraded to the latest version.\n",
    "\n",
    "After the installation is complete, you can import and use `gcpds.docs` in your Python projects to enhance your documentation process.\n",
    "\n",
    "**Note:** It is recommended to perform this installation within a virtual environment to maintain a clean workspace and avoid version conflicts with other projects."
   ]
  },
  {
   "cell_type": "markdown",
   "id": "4ed1f7a3-4529-4912-ac12-c2abd475b4f7",
   "metadata": {
    "jp-MarkdownHeadingCollapsed": true
   },
   "source": [
    "## Using the `__lab__()` Function\n",
    "\n",
    "For a streamlined repository setup experience within JupyterLab, the `gcpds.docs` package offers a convenient function `__lab__()` that initializes the process through an integrated graphical user interface (GUI). This GUI simplifies common Git operations, allowing both novice and experienced users to manage their repository with ease.\n",
    "\n",
    "To begin the setup process, follow these steps:\n",
    "\n",
    "1. **Open JupyterLab**: Start by opening your JupyterLab environment.\n",
    "\n",
    "2. **Import the Module**: In a Jupyter notebook cell, import the required function from the `gcpds.docs` package:\n",
    "\n",
    "   ```python\n",
    "   from gcpds.docs import __lab__\n",
    "   ```\n",
    "\n",
    "3. **Initialize the GUI**: Execute the function to open the GUI:\n",
    "\n",
    "   ```python\n",
    "   __lab__()\n",
    "   ```\n",
    "\n",
    "4. **Clone the Repository**: \n",
    "   - In the GUI, enter your repository's URL in the designated field.\n",
    "   - Click the 'Clone' button to clone the repository to your JupyterLab environment.\n",
    "\n",
    "![border-image](_images/lab_01.png)\n",
    "\n",
    "5. **Access Repository Management Options**:\n",
    "   - After cloning, execute the `__lab__()` function once more:\n",
    "\n",
    "     ```python\n",
    "     __lab__()\n",
    "     ```\n",
    "\n",
    "   - This action will refresh the GUI and provide you with buttons for 'Status', 'Pull', 'Push', and 'Commit' operations.\n",
    "   - Manage your repository by using these options. Enter your commit messages in the interface and confirm your actions with the respective buttons.\n",
    "  \n",
    "![border-image](_images/lab_02.png)\n",
    "\n",
    "By using the `__lab__()` function, you can access a user-friendly interface for common Git operations directly within JupyterLab, making it an ideal tool for those who prefer a more visual approach to repository management."
   ]
  }
 ],
 "metadata": {
  "kernelspec": {
   "display_name": "Python 3 (ipykernel)",
   "language": "python",
   "name": "python3"
  },
  "language_info": {
   "codemirror_mode": {
    "name": "ipython",
    "version": 3
   },
   "file_extension": ".py",
   "mimetype": "text/x-python",
   "name": "python",
   "nbconvert_exporter": "python",
   "pygments_lexer": "ipython3",
   "version": "3.11.7"
  }
 },
 "nbformat": 4,
 "nbformat_minor": 5
}
