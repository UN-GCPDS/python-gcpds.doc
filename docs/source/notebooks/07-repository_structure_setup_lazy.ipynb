{
 "cells": [
  {
   "cell_type": "markdown",
   "id": "4aca56d3-0cc2-4b9e-ac77-747eef20919c",
   "metadata": {},
   "source": [
    "# Repository Structure Setup (the lazy mode)"
   ]
  },
  {
   "cell_type": "markdown",
   "id": "4864e83f-0e14-40d0-9bdf-1b4329da5290",
   "metadata": {},
   "source": [
    "## Installation Instructions\n",
    "\n",
    "To integrate the `gcpds.docs` module into your Python environment, the process is straightforward and managed via `pip`, Python's package installer. Ensure that you have `pip` installed and that it is up to date to avoid any compatibility issues. Follow the command below to install the latest version of `gcpds.docs`:"
   ]
  },
  {
   "cell_type": "code",
   "execution_count": null,
   "id": "35f24e84-ba2e-452d-82ab-066f1ef8b745",
   "metadata": {},
   "outputs": [],
   "source": [
    "pip install -U gcpds.docs"
   ]
  },
  {
   "cell_type": "markdown",
   "id": "1550b257-52df-46bc-a569-b953cb58178b",
   "metadata": {},
   "source": [
    "This command will download and install the `gcpds.docs` module along with its dependencies. The `-U` flag ensures that if the package is already installed, it will be upgraded to the latest version.\n",
    "\n",
    "After the installation is complete, you can import and use `gcpds.docs` in your Python projects to enhance your documentation process.\n",
    "\n",
    "**Note:** It is recommended to perform this installation within a virtual environment to maintain a clean workspace and avoid version conflicts with other projects."
   ]
  },
  {
   "cell_type": "code",
   "execution_count": 1,
   "id": "f918f331-a55e-4725-8c55-c3ab98e165fd",
   "metadata": {},
   "outputs": [
    {
     "ename": "ModuleNotFoundError",
     "evalue": "No module named 'gcpds'",
     "output_type": "error",
     "traceback": [
      "\u001b[0;31m---------------------------------------------------------------------------\u001b[0m",
      "\u001b[0;31mModuleNotFoundError\u001b[0m                       Traceback (most recent call last)",
      "Cell \u001b[0;32mIn[1], line 1\u001b[0m\n\u001b[0;32m----> 1\u001b[0m \u001b[38;5;28;01mimport\u001b[39;00m \u001b[38;5;21;01mgcpds\u001b[39;00m\n",
      "\u001b[0;31mModuleNotFoundError\u001b[0m: No module named 'gcpds'"
     ]
    }
   ],
   "source": [
    "import gcpds"
   ]
  }
 ],
 "metadata": {
  "kernelspec": {
   "display_name": "Python 3 (ipykernel)",
   "language": "python",
   "name": "python3"
  },
  "language_info": {
   "codemirror_mode": {
    "name": "ipython",
    "version": 3
   },
   "file_extension": ".py",
   "mimetype": "text/x-python",
   "name": "python",
   "nbconvert_exporter": "python",
   "pygments_lexer": "ipython3",
   "version": "3.11.7"
  }
 },
 "nbformat": 4,
 "nbformat_minor": 5
}
