{
 "cells": [
  {
   "cell_type": "markdown",
   "id": "0a78742a-47bd-472b-9d5f-958efe8d3eb2",
   "metadata": {},
   "source": [
    "# Creating a Personal Access Token (Classic) on GitHub\n",
    "\n",
    "Personal Access Tokens (PATs) are used to grant applications, scripts, and command-line tools access to your GitHub resources. Follow the steps below to create a classic Personal Access Token with full permissions:"
   ]
  },
  {
   "cell_type": "markdown",
   "id": "a94c0263-2e20-4fb0-8cb6-3a0ba728a1d5",
   "metadata": {},
   "source": [
    "1. **Access Developer Settings**:\n",
    "   - Go to your GitHub profile.\n",
    "   - Click on the avatar at the top right of any page.\n",
    "   - Choose `Settings` from the dropdown menu.\n",
    "   - On the settings page, look for the `Developer settings` section at the bottom of the left sidebar.\n",
    "\n",
    "2. **Personal Access Tokens**:\n",
    "   - Within `Developer settings`, select `Personal access tokens`.\n",
    "   - Click on the `Generate new token` button to create a new token.\n",
    "\n",
    "3. **Token Configuration**:\n",
    "   - Give your token a descriptive name in the `Note` field to remember the purpose of the token.\n",
    "   - Select the expiration date for the token as per your requirement.\n",
    "   - To grant full access, check all the boxes to enable all permissions for the token.\n",
    "\n",
    "![border-image pat01](../_images/github_pat_01.jpg)                                                            "
   ]
  },
  {
   "cell_type": "markdown",
   "id": "c69c60de-1876-4bfc-83d4-2cd32bcaa114",
   "metadata": {},
   "source": [
    "4. **Generate and Save the Token**:\n",
    "   - Once you have configured the permissions, click the `Generate token` button at the bottom of the page.\n",
    "   - **Important**: As soon as the token is generated, make sure to copy and securely save it. **You won’t be able to see it again!** Losing this token requires generating a new one, and you must update all applications that use it.\n",
    "\n",
    "![border-image pat02](../_images/github_pat_02.png)\n",
    "    \n",
    "5. **Storing the Token Securely**:\n",
    "   - Store the token in a secure location.\n",
    "   - Consider using a password manager or an encrypted storage solution to keep your token safe."
   ]
  },
  {
   "cell_type": "markdown",
   "id": "47663581-32c9-4b25-b0fe-53a70b612e28",
   "metadata": {},
   "source": [
    "Remember, the Personal Access Token acts as a substitute for your GitHub password. Treat it as securely as you would your password, and never share it or commit it to your repositories."
   ]
  }
 ],
 "metadata": {
  "kernelspec": {
   "display_name": "Python 3 (ipykernel)",
   "language": "python",
   "name": "python3"
  },
  "language_info": {
   "codemirror_mode": {
    "name": "ipython",
    "version": 3
   },
   "file_extension": ".py",
   "mimetype": "text/x-python",
   "name": "python",
   "nbconvert_exporter": "python",
   "pygments_lexer": "ipython3",
   "version": "3.11.7"
  }
 },
 "nbformat": 4,
 "nbformat_minor": 5
}
