{
 "cells": [
  {
   "cell_type": "markdown",
   "id": "828afc51-716f-4b7f-9f31-188d36d30aee",
   "metadata": {},
   "source": [
    "# Configuring Repository Variables and Secrets on GitHub\n",
    "\n",
    "In order to customize and secure your project environment, you need to set up variables and secrets within your GitHub repository. These are accessible in the repository settings under the `Settings` tab. Follow these steps to add the necessary variables:"
   ]
  },
  {
   "cell_type": "markdown",
   "id": "01736fb2-9418-47f3-943e-60bfafe3f6c2",
   "metadata": {},
   "source": [
    "1. **Access Repository Settings**:\n",
    "   - Navigate to your GitHub repository page.\n",
    "   - Click on the `Settings` tab located at the top of the page.\n",
    "\n",
    "2. **Navigate to Secrets Section**:\n",
    "   - Within the `Settings` tab, scroll down to the `Secrets` section.\n",
    "   - Click on the `New repository secret` button to create a new secret.\n",
    "\n",
    "![border-image secret01](../_images/github_secrets_01.png)"
   ]
  },
  {
   "cell_type": "markdown",
   "id": "1b663dd7-794a-4bca-8838-6d262c76916a",
   "metadata": {},
   "source": [
    "3. **Set Up Variables**:\n",
    "   - **Project Name**: Define the `DOCS_PROJECT_NAME` with the name of your project.\n",
    "   - **Author Name**: For `Name`, input `DOCS_AUTHOR`. For `Value`, enter the author's full name.\n",
    "   - **Author Email**: Add a new secret with `Name` as `DOCS_EMAIL` and the value as the author's email address.\n",
    "   - **Module**: Use `DOCS_MODULE` for the `Name` and the specific module name for the `Value`. Note that this should be the name of the repository.\n",
    "   - **Submodule**: If your project has submodules, use `DOCS_SUBMODULE` for the `Name` and the specific submodule name for the `Value`. This should also correspond to the name of the repository. For example, for a repository named `gcpds.docs`, `DOCS_MODULE` would be `gcpds` and `DOCS_SUBMODULE` would be `docs`.\n",
    "\n",
    "![border-image secret02](../_images/github_secrets_02.png)\n",
    "\n",
    "4. **Save Each Variable**:\n",
    "   - After entering the name and value for each variable, click the `Add secret` button to save it.\n",
    "\n",
    "5. **Review and Maintain Secrets**:\n",
    "   - Make sure to review your secrets and variables regularly.\n",
    "   - Update them as necessary to keep your environment secure and up to date."
   ]
  },
  {
   "cell_type": "markdown",
   "id": "27af9eff-bca7-4a04-bea1-ff7c7e1d1d7f",
   "metadata": {},
   "source": [
    "Remember that secrets are encrypted environment variables created in your repository settings. They are not passed to workflows that are triggered by a pull request from a fork.\n"
   ]
  }
 ],
 "metadata": {
  "kernelspec": {
   "display_name": "Python 3 (ipykernel)",
   "language": "python",
   "name": "python3"
  },
  "language_info": {
   "codemirror_mode": {
    "name": "ipython",
    "version": 3
   },
   "file_extension": ".py",
   "mimetype": "text/x-python",
   "name": "python",
   "nbconvert_exporter": "python",
   "pygments_lexer": "ipython3",
   "version": "3.11.7"
  }
 },
 "nbformat": 4,
 "nbformat_minor": 5
}
