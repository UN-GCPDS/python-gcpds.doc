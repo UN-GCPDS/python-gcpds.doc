{
 "cells": [
  {
   "cell_type": "markdown",
   "id": "11870f44-d8e9-4b81-bd2c-885e3927c82d",
   "metadata": {},
   "source": [
    "# Guidelines for Python Module Repository Naming and Configuration on GitHub\n",
    "\n",
    "When setting up a new Python module repository on GitHub, it is essential to follow a set of standard practices to ensure the repository is organized, well-documented, and accessible to users and contributors. These guidelines provide a framework for naming conventions, visibility settings, and initial configuration steps that will lead to a clean, professional, and easy-to-use repository. Adhering to these practices not only facilitates collaboration and code management but also aligns with the best practices for open-source development.\n",
    "\n",
    "Visit [GitHub](https://github.com/) and ensure you are logged in to your account. In the upper right corner of the GitHub page, click on the `+` symbol and then select [New repository](https://github.com/new).\n",
    "\n",
    "![border-image git00](../_images/github_create_00.png)"
   ]
  },
  {
   "cell_type": "markdown",
   "id": "e7d0761f-a1ce-4403-aecf-3e6988dd1a0b",
   "metadata": {},
   "source": [
    "1. **Repository Naming Convention**:\n",
    "   - **Format**: The repository name must follow the `python-gcpds.<module_name>` pattern.\n",
    "   - **Case Sensitivity**: Always use lowercase for `<module_name>`. This ensures uniformity and avoids confusion caused by case-sensitive URLs.\n",
    "   - **Descriptiveness**: The module name should be highly descriptive. It should clearly reflect the module's purpose or functionality. Avoid using abbreviations unless they are widely understood in the domain.\n",
    "     \n",
    "![border-image git01](../_images/github_create_01.jpeg)"
   ]
  },
  {
   "cell_type": "markdown",
   "id": "9e611cff-bfe8-4d09-9469-d101babc2145",
   "metadata": {},
   "source": [
    "2. **Repository Visibility**: \n",
    "   - **Public Access**: The repository must be set as public. This promotes transparency, fosters collaboration, and encourages community engagement.\n",
    "   - **Benefits of Public Repositories**: Public repositories can be freely accessed, forked, and contributed to by anyone. They facilitate open-source collaboration and knowledge sharing.\n",
    "\n",
    "![border-image git02](../_images/github_create_02.jpeg)"
   ]
  },
  {
   "cell_type": "markdown",
   "id": "2394fbcc-eafb-469b-955c-9f02f7f575fc",
   "metadata": {},
   "source": [
    "3. **README File**: \n",
    "   - **No Initial Requirement**: A README file is not initially required in the repository. This is because it will be generated automatically later on.\n",
    "   - **Automated Generation**: The README will be created automatically to ensure consistency and adherence to project standards. This process will include essential information such as module description, installation instructions, usage examples, and contact information for contributors.\n",
    "\n",
    "![border-image git03](../_images/github_create_03.jpeg)"
   ]
  },
  {
   "cell_type": "markdown",
   "id": "508d73a7-635f-4e74-9873-03911b884e19",
   "metadata": {},
   "source": [
    "4. **.gitignore Configuration**: \n",
    "   - **Python-Specific Setup**: The `.gitignore` file should be tailored for Python projects.\n",
    "   - **Exclusions**: It should exclude common Python temporary files and directories like `__pycache__`, `.pyc` files, virtual environment directories (`venv/`, `env/`), and other non-essential files.\n",
    "   - **Best Practices**: This practice keeps the repository clean and prevents unnecessary files from being tracked and shared.\n",
    "  \n",
    "![border-image git04](../_images/github_create_04.jpeg)"
   ]
  },
  {
   "cell_type": "markdown",
   "id": "fc67df51-2018-4ac3-8576-083d917a2c1e",
   "metadata": {},
   "source": [
    "5. **License**: \n",
    "   - **BSD 2-Clause \"Simplified\" License**: Choose the BSD 2-Clause License for its simplicity and permissiveness.\n",
    "   - **License Features**: This license allows almost unrestricted freedom in using, modifying, and distributing your software, provided that copyright notices and disclaimers are preserved. It's ideal for open-source projects that aim for broad distribution and utilization.\n",
    "   - **Implications for Users**: Users and developers can integrate and use your software in almost any project, including proprietary ones, as long as the conditions of the BSD license are met.\n",
    "\n",
    "![border-image git05](../_images/github_create_05.jpeg)"
   ]
  },
  {
   "cell_type": "markdown",
   "id": "4fc9305d-041b-45f5-942b-dd49ee83caca",
   "metadata": {},
   "source": [
    "6. **Create Repository**:\n",
    "   - **Simple Process**: To create the repository, simply click on the \"Create repository\" button on GitHub.\n",
    "   - **User Action**: This action is typically the final step in the repository setup process and is straightforward to execute.\n",
    "\n",
    "![border-image git06](../_images/github_create_06.jpeg)"
   ]
  },
  {
   "cell_type": "markdown",
   "id": "d47d9874-c305-4310-bee7-84c99fd71e8c",
   "metadata": {},
   "source": [
    "7. **New Repository Configuration**:\n",
    "   - **Initial State**: Upon creation, the new repository will be empty but configured with the chosen `.gitignore` tailored for Python.\n",
    "   - **License File**: Additionally, a \"LICENSE\" file based on the BSD 2-Clause \"Simplified\" License will be included in the repository. This file is crucial for legally defining the terms under which your software can be used.\n",
    "\n",
    "![border-image git07](../_images/github_create_07.png)"
   ]
  }
 ],
 "metadata": {
  "kernelspec": {
   "display_name": "Python 3 (ipykernel)",
   "language": "python",
   "name": "python3"
  },
  "language_info": {
   "codemirror_mode": {
    "name": "ipython",
    "version": 3
   },
   "file_extension": ".py",
   "mimetype": "text/x-python",
   "name": "python",
   "nbconvert_exporter": "python",
   "pygments_lexer": "ipython3",
   "version": "3.11.7"
  }
 },
 "nbformat": 4,
 "nbformat_minor": 5
}
