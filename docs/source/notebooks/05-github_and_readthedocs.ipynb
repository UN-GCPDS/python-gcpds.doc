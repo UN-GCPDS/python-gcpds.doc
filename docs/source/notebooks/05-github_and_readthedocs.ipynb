{
 "cells": [
  {
   "cell_type": "markdown",
   "id": "86265535-48c1-43a2-95a5-9fdd1486f750",
   "metadata": {},
   "source": [
    "# Integrating GitHub with Webhooks for Read the Docs\n",
    "\n",
    "Webhooks allow your GitHub repository to communicate with external services like Read the Docs, triggering builds automatically every time you push changes. Here's how you can set up a webhook for your project:"
   ]
  },
  {
   "cell_type": "markdown",
   "id": "455984b1-c87a-45f9-b80d-6c452afe188d",
   "metadata": {},
   "source": [
    "1. **Obtain Webhook Details from Read the Docs**:\n",
    "   - Go to your project on Read the Docs.\n",
    "   - Navigate to the `Admin` section.\n",
    "   - Click on `Integrations` from the sidebar menu.\n",
    "   - You will find a section titled 'Integration - GitHub incoming webhook' which contains the Webhook URL and a Secret. Copy these details as you will need them for the GitHub setup.\n",
    "  \n",
    "![border-image](_images/webhook_01.png)\n",
    "\n",
    "2. **Configure Webhook on GitHub**:\n",
    "   - Access your GitHub repository.\n",
    "   - Click on the `Settings` tab.\n",
    "   - On the left sidebar, click on `Webhooks`, then on the `Add webhook` button.\n",
    "\n",
    "3. **Webhook Setup**:\n",
    "   - In the `Payload URL` field, paste the Webhook URL you copied from Read the Docs.\n",
    "   - For `Content type`, select `application/x-www-form-urlencoded`.\n",
    "   - In the `Secret` field, enter the Secret provided by Read the Docs.\n",
    "   - Enable SSL verification to ensure secure data transmission.\n",
    "\n",
    "4. **Select Trigger Events**:\n",
    "   - Choose which events you would like to trigger this webhook. Typically, you would select 'Just the push event' for documentation projects.\n",
    "\n",
    "5. **Activate Webhook**:\n",
    "   - Ensure the `Active` checkbox is selected to enable the webhook.\n",
    "   - Click on `Add webhook` to save and activate the webhook.\n",
    "  \n",
    "![border-image](_images/webhook_02.png)\n",
    "\n",
    "6. **Verify Webhook Integration**:\n",
    "   - Once the webhook is added, GitHub will send a ping to Read the Docs to test the connection.\n",
    "   - You can verify the integration by pushing a commit to your repository and checking if a new build is triggered on Read the Docs.\n",
    "  \n",
    "![border-image](_images/webhook_03.png)"
   ]
  },
  {
   "cell_type": "markdown",
   "id": "6aab566f-2bdf-4f63-9130-56925350d319",
   "metadata": {},
   "source": [
    "**Important**: Remember to save your webhook settings on GitHub immediately after adding them. The secret token is sensitive information and should be kept secure. Also, GitHub will not display the secret again after you navigate away from the page."
   ]
  }
 ],
 "metadata": {
  "kernelspec": {
   "display_name": "Python 3 (ipykernel)",
   "language": "python",
   "name": "python3"
  },
  "language_info": {
   "codemirror_mode": {
    "name": "ipython",
    "version": 3
   },
   "file_extension": ".py",
   "mimetype": "text/x-python",
   "name": "python",
   "nbconvert_exporter": "python",
   "pygments_lexer": "ipython3",
   "version": "3.11.7"
  }
 },
 "nbformat": 4,
 "nbformat_minor": 5
}
