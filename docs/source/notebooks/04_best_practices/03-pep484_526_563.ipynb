{
 "cells": [
  {
   "cell_type": "markdown",
   "id": "a59e71ac-a610-4749-b098-3cf9c6db50be",
   "metadata": {},
   "source": [
    "# PEP484, PEP585, PEP526 and PEP563: Type Hints and Annotations\n",
    "\n",
    "In Python, type hints and annotations enhance code clarity and maintainability. They provide a way to explicitly state the expected types of variables and function returns, aiding in static analysis and reducing the likelihood of bugs. Let's delve into PEP 484, PEP 526, and PEP 563, which are instrumental in this aspect of Python development.\n",
    "\n",
    "  * **PEP 484:** Introduces type hints, a standard way to annotate variables and function signatures with their expected types, enhancing code clarity and aiding static   analysis tools.\n",
    "  * **PEP 585:** This PEP introduces the ability to use standard library classes as generic types.\n",
    "  * **PEP 526:** Further expands on type annotations, allowing variable annotations for more readable and maintainable code.\n",
    "  * **PEP 563:** Introduces 'Postponed Evaluation of Annotations,' making type annotations more flexible and forward-compatible."
   ]
  },
  {
   "cell_type": "markdown",
   "id": "20801ad6-2414-4636-9c84-3c6f60b5c1cc",
   "metadata": {},
   "source": [
    "## PEP 484: Introduction of Type Hints\n",
    "- **Purpose**: [PEP 484](https://peps.python.org/pep-0484/) introduces a methodology for annotating function signatures and variables with their expected types. This standardization aids tools like linters, IDEs, and static type checkers, helping developers identify type-related errors more easily.\n",
    "- **Not for Runtime Enforcement**: It's important to note that these type hints are not enforced at runtime. They serve as a guide for developers and tools to understand the intended use of variables and functions better.\n",
    "- **Example**:\n",
    "  \n",
    "```python\n",
    "def add_numbers(num1: int, num2: int) -> int:\n",
    "    return num1 + num2\n",
    "```\n",
    "    \n",
    "- **Use in Complex Functions**: In more complex functions, type hints clarify the expected type of each parameter and the return type. This clarity is particularly useful in functions with multiple parameters or complex operations.\n",
    "- **Generics and Typing Module**: PEP 484 also introduces the `typing` module, providing support for generics and more complex types like `List`, `Dict`, etc.\n",
    "  \n",
    "```python\n",
    "from typing import List, Dict\n",
    "\n",
    "def process_items(items: List[str]) -> Dict[str, int]:\n",
    "    ...\n",
    "```"
   ]
  },
  {
   "cell_type": "markdown",
   "id": "1497e8a8-8254-4cba-8494-951c8669d79c",
   "metadata": {},
   "source": [
    "### PEP 585: Integration with Standard Collection Types\n",
    "- **Enhanced Readability and Usability**: [PEP 585](https://peps.python.org/pep-0585/), introduced in Python 3.9, allows the use of built-in collection types (`list`, `dict`, etc.) as generic types. This eliminates the need to import these types from the `typing` module, making type annotations more readable and easier to write.\n",
    "- **Example Using PEP 585**:\n",
    "\n",
    "```python\n",
    "def process_data(data: list[int]) -> dict[str, float]:\n",
    "    ...\n",
    "```\n",
    "- **Backward Compatibility**: Code written with the older style from `typing` (e.g., `List`, `Dict`) will still work, but the newer style is more succinct and integrated with the language's built-in types.\n"
   ]
  },
  {
   "cell_type": "markdown",
   "id": "8b6839bc-14c3-4cd5-830c-787259a0a94a",
   "metadata": {},
   "source": [
    "## PEP 526: Syntax for Variable Annotations\n",
    "- **Extension to Variables**: [PEP 526](https://peps.python.org/pep-0526/) extends type annotations to the definition of variables. This allows for clearer specification of the intended type of each variable, reducing ambiguity.\n",
    "- **Example**:\n",
    "```python\n",
    "number: int = 5\n",
    "name: str = \"Alice\"\n",
    "```\n",
    "- **Annotations in Different Contexts**: Variable annotations can be particularly useful in class attributes, global variables, and instance variables, providing a clear contract of what type of data these variables should hold.\n",
    "```python\n",
    "class MyClass:\n",
    "    attribute: int\n",
    "\n",
    "    def __init__(self):\n",
    "        self.attribute = 0\n",
    "```"
   ]
  },
  {
   "cell_type": "markdown",
   "id": "a63e2fdd-ee26-434d-a483-90665ea4f121",
   "metadata": {},
   "source": [
    "## PEP 563: Postponed Evaluation of Annotations\n",
    "- **Solving Forward Reference Issues**: [PEP 563](https://peps.python.org/pep-0563/) addresses a common issue in type annotations known as 'forward referencing'. With postponed evaluation, annotations are treated as string literals, resolving circular dependencies and forward reference problems.\n",
    "- **Forward Compatibility**: This feature makes the codebase more adaptable to future changes, as annotations will not cause import or evaluation errors when referencing future or yet-to-be-defined classes.\n",
    "- **Usage**:\n",
    "```python\n",
    "from __future__ import annotations\n",
    "\n",
    "def func(a: 'SomeClass'):\n",
    "    ...\n",
    "```"
   ]
  }
 ],
 "metadata": {
  "kernelspec": {
   "display_name": "Python 3 (ipykernel)",
   "language": "python",
   "name": "python3"
  },
  "language_info": {
   "codemirror_mode": {
    "name": "ipython",
    "version": 3
   },
   "file_extension": ".py",
   "mimetype": "text/x-python",
   "name": "python",
   "nbconvert_exporter": "python",
   "pygments_lexer": "ipython3",
   "version": "3.11.7"
  }
 },
 "nbformat": 4,
 "nbformat_minor": 5
}
