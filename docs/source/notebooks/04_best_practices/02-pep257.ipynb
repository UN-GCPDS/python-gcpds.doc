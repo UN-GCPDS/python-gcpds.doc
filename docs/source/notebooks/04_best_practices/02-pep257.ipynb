{
 "cells": [
  {
   "cell_type": "markdown",
   "id": "7fcac69a-85d5-4a24-af80-524acab3b654",
   "metadata": {},
   "source": [
    "# PEP257: Docstring Conventions\n",
    "\n",
    "[PEP 257](https://peps.python.org/pep-0257/) is a vital guide for Python developers, focusing on the formatting and usage of docstrings. Adhering to these conventions is crucial for maintaining well-documented, readable, and accessible code. This section outlines key aspects of PEP 257 and provides guidance on writing effective docstrings."
   ]
  },
  {
   "cell_type": "markdown",
   "id": "dea783fc-76b0-4edc-812c-7185db296e0e",
   "metadata": {},
   "source": [
    "## Understanding Docstrings\n",
    "   - **Definition**: A docstring is a string literal that occurs as the first statement in a module, function, class, or method definition. It is used to explain and document the object.\n",
    "   - **Purpose**: Docstrings provide a convenient way of associating documentation with Python modules, functions, classes, and methods.\n",
    "\n",
    "## Key Conventions from PEP 257\n",
    "\n",
    "1. **Consistency**:\n",
    "   - **Uniformity**: Apply a consistent style across all docstrings in your project. This includes the use of triple double quotes (`\"\"\"Your docstring here.\"\"\"`), even for one-liners.\n",
    "\n",
    "2. **One-liner Docstrings**:\n",
    "   - **Usage**: Ideal for simple cases where the documentation can fit into a single line.\n",
    "   - **Format**: The closing quotes should be on the same line as the opening quotes.\n",
    "\n",
    "```python\n",
    "def simple_function():\n",
    "    \"\"\"Perform a simple task.\"\"\"\n",
    "```\n",
    "\n",
    "3. **Multi-line Docstrings**:\n",
    "- **Structure**: Consist of a summary line (like a one-liner), followed by a blank line, then a more elaborate description.\n",
    "- **Example**:\n",
    "\n",
    "```python\n",
    "def complex_function(param):\n",
    "    \"\"\"\n",
    "    Perform a complex task.\n",
    "\n",
    "    Args:\n",
    "        param (type): Description of the parameter.\n",
    "\n",
    "    Returns:\n",
    "        type: Description of the return value.\n",
    "    \"\"\"\n",
    "```\n",
    "\n",
    "4. **Descriptive Docstrings**:\n",
    "   - **Content**: Describe what the function/class/method does, and not how.\n",
    "   - **Include**: Arguments, return values, side effects, exceptions raised, and any restrictions on when the function can be called."
   ]
  },
  {
   "cell_type": "markdown",
   "id": "b48cad0f-a5de-4d09-b741-110e065317ce",
   "metadata": {},
   "source": [
    "## Best Practices for Docstrings\n",
    "\n",
    "**Clear and Concise**:\n",
    "   - Keep your docstrings clear and concise, providing all necessary information in a straightforward manner.\n",
    "\n",
    "**Update Regularly**:\n",
    "   - Update docstrings as you update your code. They should always reflect the current functionality."
   ]
  },
  {
   "cell_type": "markdown",
   "id": "7fc97873-155e-4a26-9b03-cd1dedd67306",
   "metadata": {},
   "source": [
    "## Conclusion\n",
    "\n",
    "Following [PEP 257](https://peps.python.org/pep-0257/) docstring conventions is not just about adhering to standards; it's about making your code more readable, maintainable, and user-friendly. Good documentation is as important as good code, and docstrings play a pivotal role in achieving this."
   ]
  }
 ],
 "metadata": {
  "kernelspec": {
   "display_name": "Python 3 (ipykernel)",
   "language": "python",
   "name": "python3"
  },
  "language_info": {
   "codemirror_mode": {
    "name": "ipython",
    "version": 3
   },
   "file_extension": ".py",
   "mimetype": "text/x-python",
   "name": "python",
   "nbconvert_exporter": "python",
   "pygments_lexer": "ipython3",
   "version": "3.11.7"
  }
 },
 "nbformat": 4,
 "nbformat_minor": 5
}
