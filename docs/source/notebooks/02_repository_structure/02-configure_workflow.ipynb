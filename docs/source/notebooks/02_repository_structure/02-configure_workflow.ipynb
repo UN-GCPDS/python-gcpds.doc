{
 "cells": [
  {
   "cell_type": "markdown",
   "id": "749232e6-dfa4-417f-9308-049f4eba183b",
   "metadata": {},
   "source": [
    "# Configuring Workflows in GitHub\n",
    "\n",
    "Workflows in GitHub Actions automate your development process. They can be used for a variety of tasks, such as testing code, building artifacts, and deploying applications. To set up workflows, you need to create a specific directory structure in your repository."
   ]
  },
  {
   "cell_type": "markdown",
   "id": "17266ecb-a4cb-44a3-8393-bf5850604dca",
   "metadata": {},
   "source": [
    "## Creating the Workflow Directory\n",
    "\n",
    "Follow these steps to create a `.github/workflows` directory in your repository, which is where your workflow files will reside:\n",
    "\n",
    "```bash\n",
    "# Navigate to your repository's root directory\n",
    "cd path/to/your-repository\n",
    "\n",
    "# Create the .github directory if it does not exist\n",
    "mkdir -p .github\n",
    "\n",
    "# Within the .github directory, create the workflows directory\n",
    "cd .github\n",
    "mkdir workflows\n",
    "\n",
    "# Your directory structure should now look like this:\n",
    "# your-repository/\n",
    "# └── .github/\n",
    "#     └── workflows/\n",
    "```\n",
    "\n",
    "Replace `path/to/your-repository` with the actual path to your repository's root directory. This structure is a standard convention in GitHub Actions and is necessary for GitHub to recognize and execute your workflows."
   ]
  },
  {
   "cell_type": "markdown",
   "id": "49e5317c-8077-482a-90cd-dad3a52510af",
   "metadata": {},
   "source": [
    "## Adding Workflow Files\n",
    "\n",
    "After creating the directory structure, you can add workflow files (YAML files) into the `.github/workflows` directory. These files define your workflows and the conditions under which they should run. For example, you might have a workflow for automated testing and another for building documentation.\n",
    "\n",
    "```plaintext\n",
    "# Example of a basic workflow file structure\n",
    "your-repository/\n",
    "└── .github/\n",
    "    └── workflows/\n",
    "        ├── automated-setup.yml\n",
    "        └── automated-sphinx-docs.yml\n",
    "```\n",
    "\n",
    "You will be using two workflow files:\n",
    "\n",
    "1. **```automated-setup.yml```**: This workflow automatically creates the `setup.py` file for your Python project.\n",
    "2. **```automated-sphinx-docs.yml```**: This workflow sets up a Sphinx environment automatically for your documentation.\n",
    "\n",
    "In this example, [`automated-setup.yml`](https://raw.githubusercontent.com/UN-GCPDS/python-gcpds.docs/main/gcpds/docs/workflows/automated-setup.yml) could be a workflow for setting up your project environment, and [`automated-sphinx-docs.yml`](https://raw.githubusercontent.com/UN-GCPDS/python-gcpds.docs/main/gcpds/docs/workflows/automated-sphinx-docs.yml) could be for building and deploying Sphinx documentation."
   ]
  },
  {
   "cell_type": "markdown",
   "id": "9d84068e-f5fa-4368-9e53-5c1b703e2fd2",
   "metadata": {},
   "source": [
    "## Automated Setup Generation Workflow\n",
    "\n",
    "This workflow automates the generation and updating of setup files in a GitHub repository.\n",
    "\n",
    "**Triggers**:\n",
    "    - **Manual Trigger (workflow_dispatch)**: Allows for manual execution of the workflow.\n",
    "    - **Push Trigger (push)**: Activates the workflow on every push to the repository.\n",
    "\n",
    "**Jobs**:\n",
    "\n",
    "  - **Format Setup Customized**:\n",
    "    - **Environment**: The job runs on the latest Ubuntu virtual machine.\n",
    "    - **Permissions**: It has write permissions to the repository.\n",
    "\n",
    "  - **Steps**:\n",
    "    1. **Checkout Repository**:\n",
    "       - The workflow checks out the code from the repository using `actions/checkout@v4`.\n",
    "    \n",
    "    2. **Prepare and Update Documentation**:\n",
    "       - This step checks if `setup.py` exists. If not, it creates `setup.py` with predefined settings such as package name, author, email, etc. These settings are populated using variables like `${{ vars.DOCS_MODULE }}`.\n",
    "    \n",
    "    3. **Auto-commit Changes**:\n",
    "       - All changes, including the newly created or updated `setup.py`, are committed back to the repository using `stefanzweifel/git-auto-commit-action@v5`.\n"
   ]
  },
  {
   "cell_type": "markdown",
   "id": "058d136e-09f2-4a16-aead-5014c7bec735",
   "metadata": {},
   "source": [
    "## Automated Documentation and Code Formatting Workflow\n",
    "\n",
    "This GitHub workflow is designed to automate the process of documentation and code formatting upon manual triggering or after every push to the repository.\n",
    "\n",
    "**Triggers**:\n",
    "    - **Manual Trigger (workflow_dispatch)**: Allows for manual execution of the workflow.\n",
    "    - **Push Trigger (push)**: Activates the workflow on each push to the repository.\n",
    "\n",
    "**Jobs**:\n",
    "\n",
    "  - **Format Sphinx Customized**\n",
    "    - **Environment**: The job runs on the latest Ubuntu virtual machine.\n",
    "    - **Permissions**: It has write permissions to the repository.\n",
    "\n",
    "**Steps**\n",
    "\n",
    "  1. **Checkout Repository**:\n",
    "     - Uses `actions/checkout@v4` to check out the code from the repository.\n",
    "\n",
    "  2. **Prepare and Update Documentation**:\n",
    "     - Pulls necessary Docker images for documentation (`dunderlab/docs` and `sphinxdoc/sphinx-latexpdf`).\n",
    "     - Installs required Python packages (`nbsphinx` and `dunderlab-docs`).\n",
    "     - Sets up initial documentation in the 'docs' directory if it does not exist, using `dunderlab_docs quickstart`.\n",
    "     - Generates API documentation and builds HTML and Latex PDF documentation. This step is contingent on the existence of the `DOCS_SUBMODULE` variable.\n",
    "     - Adds or updates the `.readthedocs.yml` configuration file for Read the Docs integration, ensuring it is set up with the required build settings and formats.\n",
    "\n",
    "  3. **Auto-commit Changes**:\n",
    "     - Commits all changes, including updated or newly created documentation files, back to the repository using `stefanzweifel/git-auto-commit-action@v5`.\n"
   ]
  }
 ],
 "metadata": {
  "kernelspec": {
   "display_name": "Python 3 (ipykernel)",
   "language": "python",
   "name": "python3"
  },
  "language_info": {
   "codemirror_mode": {
    "name": "ipython",
    "version": 3
   },
   "file_extension": ".py",
   "mimetype": "text/x-python",
   "name": "python",
   "nbconvert_exporter": "python",
   "pygments_lexer": "ipython3",
   "version": "3.11.7"
  }
 },
 "nbformat": 4,
 "nbformat_minor": 5
}
